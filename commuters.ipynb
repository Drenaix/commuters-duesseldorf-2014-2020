{
 "cells": [
  {
   "cell_type": "markdown",
   "metadata": {},
   "source": [
    "## Commuters Data Cleaning"
   ]
  },
  {
   "cell_type": "code",
   "execution_count": 1,
   "metadata": {},
   "outputs": [],
   "source": [
    "import pandas as pd\n",
    "import matplotlib.pyplot as plt \n",
    "import seaborn as sns"
   ]
  },
  {
   "cell_type": "code",
   "execution_count": 2,
   "metadata": {},
   "outputs": [
    {
     "name": "stdout",
     "output_type": "stream",
     "text": [
      "Index(['herkunftsort', 'anzahl', 'anzahl_prozent', 'weiblich',\n",
      "       'weiblich_prozent', 'maennlich', 'maennlich_prozent',\n",
      "       'entfernung_in_km', 'year', 'category'],\n",
      "      dtype='object')\n",
      "Index(['zielort', 'anzahl', 'anzahl_prozent', 'weiblich', 'weiblich_prozent',\n",
      "       'maennlich', 'maennlich_prozent', 'entfernung_in_km', 'year',\n",
      "       'category'],\n",
      "      dtype='object')\n"
     ]
    }
   ],
   "source": [
    "i14 = pd.read_csv(\"Einpendelnde Personen 2014_7.csv\", delimiter=\";\")\n",
    "i15 = pd.read_csv(\"Einpendelnde Personen 2015_1.csv\", delimiter=\";\")\n",
    "i16 = pd.read_csv(\"Einpendelnde Personen 2016_0.csv\", delimiter=\";\")\n",
    "i17 = pd.read_csv(\"Einpendelnde Personen 2017_0.csv\", delimiter=\";\")\n",
    "i18 = pd.read_csv(\"Einpendelnde Personen 2018.csv\", delimiter=\";\")\n",
    "i19 = pd.read_csv(\"Einpendelnde Personen 2019.csv\", delimiter=\";\")\n",
    "i20 = pd.read_csv(\"Einpendelnde Personen 2020.csv\", delimiter=\";\")\n",
    "\n",
    "o14 = pd.read_csv(\"Auspendelnde Personen 2014_1.csv\",delimiter=\";\")\n",
    "o15 = pd.read_csv(\"Auspendelnde Personen 2015_1.csv\",delimiter=\";\")\n",
    "o16 = pd.read_csv(\"Auspendelnde Personen 2016_0.csv\",delimiter=\";\")\n",
    "o17 = pd.read_csv(\"Auspendelnde Personen 2017_1.csv\",delimiter=\";\")\n",
    "o18 = pd.read_csv(\"Auspendelnde Personen 2018.csv\",delimiter=\";\")\n",
    "o19 = pd.read_csv(\"Auspendelnde Personen 2019.csv\",delimiter=\";\")\n",
    "o20 = pd.read_csv(\"Auspendelnde Personen 2020.csv\",delimiter=\";\")\n",
    "\n",
    "incoming_list =[i14,i15,i16,i17,i18,i19,i20]\n",
    "outgoing_list =[o14,o15,o16,o17,o18,o19,o20]\n",
    "all_list =[incoming_list,outgoing_list]\n",
    "\n",
    "year_index=2014\n",
    "for list in incoming_list:\n",
    "    list.columns = list.columns.str.lower()\n",
    "    list.columns = list.columns.str.replace(\" \",\"_\")\n",
    "    list.rename(columns={'maennlich_': 'maennlich'}, inplace=True)\n",
    "    list.rename(columns={'anzahl_in_prozent': 'anzahl_prozent'}, inplace=True)\n",
    "    list.rename(columns={'maennlich_in_prozent': 'maennlich_prozent'}, inplace=True)\n",
    "    list.rename(columns={'weiblich_in_prozent': 'weiblich_prozent'}, inplace=True)\n",
    "    list[\"year\"] = year_index\n",
    "    list[\"category\"] = \"incoming commuters\"\n",
    "    year_index += 1\n",
    "\n",
    "year_index=2014\n",
    "for list in outgoing_list:\n",
    "    list.columns = list.columns.str.lower()\n",
    "    list.columns = list.columns.str.replace(\" \",\"_\")\n",
    "    list.rename(columns={'maennlich_': 'maennlich'}, inplace=True)\n",
    "    list.rename(columns={'anzahl_in_prozent': 'anzahl_prozent'}, inplace=True)\n",
    "    list.rename(columns={'maennlich_in_prozent': 'maennlich_prozent'}, inplace=True)\n",
    "    list.rename(columns={'weiblich_in_prozent': 'weiblich_prozent'}, inplace=True)\n",
    "\n",
    "\n",
    "    list[\"year\"] = year_index\n",
    "    list[\"category\"] = \"outgoing commuters\"\n",
    "    year_index += 1\n",
    "\n",
    "o14.rename(columns={'herkunftsort': 'zielort'}, inplace=True)\n",
    "\n",
    "\n",
    "o_merge = pd.concat([o14,o15,o16,o17,o18,o19,o20], axis=0, ignore_index=True)\n",
    "i_merge = pd.concat([i14,i15,i16,i17,i18,i19,i20], axis=0, ignore_index=True)\n",
    "\n",
    "#print(len(o_merge))\n",
    "#print(o_merge.tail(35))\n",
    "\n",
    "print(i_merge.columns)\n",
    "print(o_merge.columns)\n",
    "\n"
   ]
  },
  {
   "cell_type": "code",
   "execution_count": 3,
   "metadata": {},
   "outputs": [
    {
     "data": {
      "text/plain": [
       "array(['Duisburg', 'Köln', 'Essen', 'Krefeld', 'Mönchengladbach',\n",
       "       'Wuppertal', 'Mülheim an der Ruhr', 'Solingen', 'Oberhausen',\n",
       "       'Bochum', 'Dortmund', 'Leverkusen', 'Ratingen', 'Hilden',\n",
       "       'Erkrath', 'Langenfeld (Rheinland)', 'Monheim am Rhein', 'Neuss',\n",
       "       'Meerbusch', 'Kaarst', 'Grevenbroich', 'Dormagen', 'Willich',\n",
       "       'Viersen', 'Tönisvorst', 'Kempen', 'Nettetal',\n",
       "       'allen sonstigen Orten'], dtype=object)"
      ]
     },
     "execution_count": 3,
     "metadata": {},
     "output_type": "execute_result"
    }
   ],
   "source": [
    "i_merge.herkunftsort.unique()"
   ]
  },
  {
   "cell_type": "code",
   "execution_count": 4,
   "metadata": {},
   "outputs": [
    {
     "data": {
      "text/plain": [
       "array(['Köln', 'Essen', 'Duisburg', 'Krefeld', 'Wuppertal',\n",
       "       'Mönchengladbach', 'Mülheim an der Ruhr', 'Leverkusen', 'Solingen',\n",
       "       'Bonn', 'Dortmund', 'Oberhausen', 'Ratingen', 'Hilden',\n",
       "       'Langenfeld (Rheinland)', 'Erkrath', 'Monheim am Rhein', 'Neuss',\n",
       "       'Meerbusch', 'Dormagen', 'Kaarst', 'Grevenbroich', 'Willich',\n",
       "       'Viersen', 'Kempen', 'Tönisvorst', 'Nettetal',\n",
       "       'alle sonstigen Orte'], dtype=object)"
      ]
     },
     "execution_count": 4,
     "metadata": {},
     "output_type": "execute_result"
    }
   ],
   "source": [
    "o_merge.zielort.unique()"
   ]
  },
  {
   "cell_type": "code",
   "execution_count": 5,
   "metadata": {},
   "outputs": [],
   "source": [
    "i_city_coordinates = {\n",
    "    'Duisburg': (51.4344, 6.7623),\n",
    "    'Köln': (50.9375, 6.9603),\n",
    "    'Essen': (51.4556, 7.0116),\n",
    "    'Krefeld': (51.3369, 6.5535),\n",
    "    'Mönchengladbach': (51.1805, 6.4425),\n",
    "    'Wuppertal': (51.2562, 7.1507),\n",
    "    'Mülheim an der Ruhr': (51.4309, 6.8785),\n",
    "    'Solingen': (51.1734, 7.0845),\n",
    "    'Oberhausen': (51.4960, 6.8517),\n",
    "    'Bochum': (51.4812, 7.2195),\n",
    "    'Dortmund': (51.5136, 7.4653),\n",
    "    'Leverkusen': (51.0451, 6.9944),\n",
    "    'Ratingen': (51.2969, 6.8528),\n",
    "    'Hilden': (51.1657, 6.9362),\n",
    "    'Erkrath': (51.2249, 6.9073),\n",
    "    'Langenfeld (Rheinland)': (51.1139, 6.9805),\n",
    "    'Monheim am Rhein': (51.0969, 6.9474),\n",
    "    'Neuss': (51.2042, 6.6879),\n",
    "    'Meerbusch': (51.2622, 6.6751),\n",
    "    'Kaarst': (51.2209, 6.6194),\n",
    "    'Grevenbroich': (51.0973, 6.6864),\n",
    "    'Dormagen': (51.0956, 6.8397),\n",
    "    'Willich': (51.2643, 6.5491),\n",
    "    'Viersen': (51.2550, 6.3934),\n",
    "    'Tönisvorst': (51.2889, 6.3986),\n",
    "    'Kempen': (51.3660, 6.4153),\n",
    "    'Nettetal': (51.3167, 6.2833),\n",
    "    'allen sonstigen Orten': (0, 0),\n",
    "}\n",
    "\n",
    "o_city_coordinates = {\n",
    "    'Köln': (50.9375, 6.9603),\n",
    "    'Essen': (51.4556, 7.0116),\n",
    "    'Duisburg': (51.4344, 6.7623),\n",
    "    'Krefeld': (51.3369, 6.5535),\n",
    "    'Wuppertal': (51.2562, 7.1507),\n",
    "    'Mönchengladbach': (51.1805, 6.4425),\n",
    "    'Mülheim an der Ruhr': (51.4309, 6.8785),\n",
    "    'Leverkusen': (51.0451, 6.9944),\n",
    "    'Solingen': (51.1734, 7.0845),\n",
    "    'Bonn': (50.7374, 7.0982),\n",
    "    'Dortmund': (51.5136, 7.4653),\n",
    "    'Oberhausen': (51.4960, 6.8517),\n",
    "    'Ratingen': (51.2969, 6.8528),\n",
    "    'Hilden': (51.1657, 6.9362),\n",
    "    'Langenfeld (Rheinland)': (51.1139, 6.9805),\n",
    "    'Erkrath': (51.2249, 6.9073),\n",
    "    'Monheim am Rhein': (51.0969, 6.9474),\n",
    "    'Neuss': (51.2042, 6.6879),\n",
    "    'Meerbusch': (51.2622, 6.6751),\n",
    "    'Dormagen': (51.0956, 6.8397),\n",
    "    'Kaarst': (51.2209, 6.6194),\n",
    "    'Grevenbroich': (51.0973, 6.6864),\n",
    "    'Willich': (51.2643, 6.5491),\n",
    "    'Viersen': (51.2550, 6.3934),\n",
    "    'Kempen': (51.3660, 6.4153),\n",
    "    'Tönisvorst': (51.2889, 6.3986),\n",
    "    'Nettetal': (51.3167, 6.2833),\n",
    "    'alle sonstigen Orte': (0, 0),\n",
    "}\n"
   ]
  },
  {
   "cell_type": "code",
   "execution_count": 6,
   "metadata": {},
   "outputs": [
    {
     "name": "stdout",
     "output_type": "stream",
     "text": [
      "      herkunftsort anzahl anzahl_prozent weiblich weiblich_prozent maennlich  \\\n",
      "0         Duisburg  18150            6,3     8488              6,6      9662   \n",
      "1             Köln  13184            4,6     6063              4,7      7121   \n",
      "2            Essen  12203            4,2     4991              3,9      7212   \n",
      "3          Krefeld   9698            3,4     4348              3,4      5350   \n",
      "4  Mönchengladbach   9321            3,2     4072              3,2      5249   \n",
      "\n",
      "  maennlich_prozent entfernung_in_km  year            category breitengrad  \\\n",
      "0                 6             23,3  2014  incoming commuters     51,4344   \n",
      "1               4,4             34,2  2014  incoming commuters     50,9375   \n",
      "2               4,5             26,4  2014  incoming commuters     51,4556   \n",
      "3               3,3             20,2  2014  incoming commuters     51,3369   \n",
      "4               3,3             28,9  2014  incoming commuters     51,1805   \n",
      "\n",
      "  laengengrad     zielort zielort_laengengrad zielort_breitengrad  \n",
      "0      6,7623  Düsseldorf              6,7735             51,2277  \n",
      "1      6,9603  Düsseldorf              6,7735             51,2277  \n",
      "2      7,0116  Düsseldorf              6,7735             51,2277  \n",
      "3      6,5535  Düsseldorf              6,7735             51,2277  \n",
      "4      6,4425  Düsseldorf              6,7735             51,2277  \n",
      "     zielort anzahl anzahl_prozent weiblich weiblich_prozent maennlich  \\\n",
      "0       Köln   8139            8,8     3406              8,7      4733   \n",
      "1      Essen   4943            5,3     2205              5,6      2738   \n",
      "2   Duisburg   4414            4,8     1965                5      2449   \n",
      "3    Krefeld   3164            3,4     1255              3,2      1909   \n",
      "4  Wuppertal   2704            2,9     1191                3      1513   \n",
      "\n",
      "  maennlich_prozent entfernung_in_km  year            category breitengrad  \\\n",
      "0               8,8             34,2  2014  outgoing commuters     51,4344   \n",
      "1               5,1             26,4  2014  outgoing commuters     50,9375   \n",
      "2               4,6             23,3  2014  outgoing commuters     51,4556   \n",
      "3               3,6             20,2  2014  outgoing commuters     51,3369   \n",
      "4               2,8             25,1  2014  outgoing commuters     51,1805   \n",
      "\n",
      "  laengengrad herkunftsort herkunftsort_laengengrad herkunftsort_breitengrad  \n",
      "0      6,7623   Düsseldorf                   6,7735                  51,2277  \n",
      "1      6,9603   Düsseldorf                   6,7735                  51,2277  \n",
      "2      7,0116   Düsseldorf                   6,7735                  51,2277  \n",
      "3      6,5535   Düsseldorf                   6,7735                  51,2277  \n",
      "4      6,4425   Düsseldorf                   6,7735                  51,2277  \n"
     ]
    },
    {
     "name": "stderr",
     "output_type": "stream",
     "text": [
      "/var/folders/8d/48v841cs6yg751s3fv14sy980000gn/T/ipykernel_44661/3352879535.py:8: FutureWarning: The default value of regex will change from True to False in a future version. In addition, single character regular expressions will *not* be treated as literal strings when regex=True.\n",
      "  df_i_city_coordinates['laengengrad'] = df_i_city_coordinates['laengengrad'].astype(str).str.replace('.', ',')\n",
      "/var/folders/8d/48v841cs6yg751s3fv14sy980000gn/T/ipykernel_44661/3352879535.py:9: FutureWarning: The default value of regex will change from True to False in a future version. In addition, single character regular expressions will *not* be treated as literal strings when regex=True.\n",
      "  df_i_city_coordinates['breitengrad'] = df_i_city_coordinates['breitengrad'].astype(str).str.replace('.', ',')\n",
      "/var/folders/8d/48v841cs6yg751s3fv14sy980000gn/T/ipykernel_44661/3352879535.py:10: FutureWarning: The default value of regex will change from True to False in a future version. In addition, single character regular expressions will *not* be treated as literal strings when regex=True.\n",
      "  df_o_city_coordinates['laengengrad'] = df_i_city_coordinates['laengengrad'].astype(str).str.replace('.', ',')\n",
      "/var/folders/8d/48v841cs6yg751s3fv14sy980000gn/T/ipykernel_44661/3352879535.py:11: FutureWarning: The default value of regex will change from True to False in a future version. In addition, single character regular expressions will *not* be treated as literal strings when regex=True.\n",
      "  df_o_city_coordinates['breitengrad'] = df_i_city_coordinates['breitengrad'].astype(str).str.replace('.', ',')\n"
     ]
    }
   ],
   "source": [
    "df_i_city_coordinates = pd.DataFrame(i_city_coordinates.items(), columns=['herkunftsort', 'Koordinaten'])\n",
    "df_i_city_coordinates[['breitengrad', 'laengengrad']] = pd.DataFrame(df_i_city_coordinates['Koordinaten'].tolist(), index=df_i_city_coordinates.index)\n",
    "df_i_city_coordinates = df_i_city_coordinates.drop(['Koordinaten'], axis=1)\n",
    "df_o_city_coordinates = pd.DataFrame(o_city_coordinates.items(), columns=['zielort', 'Koordinaten'])\n",
    "df_o_city_coordinates[['breitengrad', 'laengengrad']] = pd.DataFrame(df_o_city_coordinates['Koordinaten'].tolist(), index=df_o_city_coordinates.index)\n",
    "df_o_city_coordinates = df_o_city_coordinates.drop(['Koordinaten'], axis=1)\n",
    "#print(df_o_city_coordinates)\n",
    "df_i_city_coordinates['laengengrad'] = df_i_city_coordinates['laengengrad'].astype(str).str.replace('.', ',')\n",
    "df_i_city_coordinates['breitengrad'] = df_i_city_coordinates['breitengrad'].astype(str).str.replace('.', ',')\n",
    "df_o_city_coordinates['laengengrad'] = df_i_city_coordinates['laengengrad'].astype(str).str.replace('.', ',')\n",
    "df_o_city_coordinates['breitengrad'] = df_i_city_coordinates['breitengrad'].astype(str).str.replace('.', ',')\n",
    "\n",
    "\n",
    "\n",
    "i_merge = i_merge.merge(df_i_city_coordinates, how=\"left\", on=\"herkunftsort\")\n",
    "o_merge = o_merge.merge(df_o_city_coordinates, how=\"left\", on=\"zielort\")\n",
    "\n",
    "i_merge[\"zielort\"] = \"Düsseldorf\"\n",
    "i_merge[\"zielort_laengengrad\"] = \"6,7735\"\n",
    "i_merge[\"zielort_breitengrad\"] = \"51,2277\"\n",
    "o_merge[\"herkunftsort\"] = \"Düsseldorf\"\n",
    "o_merge[\"herkunftsort_laengengrad\"] = \"6,7735\"\n",
    "o_merge[\"herkunftsort_breitengrad\"] = \"51,2277\"\n",
    "\n",
    "print(i_merge.head(5))\n",
    "print(o_merge.head(5))\n"
   ]
  },
  {
   "cell_type": "code",
   "execution_count": 7,
   "metadata": {},
   "outputs": [],
   "source": [
    "o_merge.to_csv(\"o_commuters_cleaned.csv\")"
   ]
  },
  {
   "cell_type": "code",
   "execution_count": 8,
   "metadata": {},
   "outputs": [],
   "source": [
    "i_merge.to_csv(\"i_commuters_cleaned.csv\")"
   ]
  }
 ],
 "metadata": {
  "kernelspec": {
   "display_name": "base",
   "language": "python",
   "name": "python3"
  },
  "language_info": {
   "codemirror_mode": {
    "name": "ipython",
    "version": 3
   },
   "file_extension": ".py",
   "mimetype": "text/x-python",
   "name": "python",
   "nbconvert_exporter": "python",
   "pygments_lexer": "ipython3",
   "version": "3.11.4"
  }
 },
 "nbformat": 4,
 "nbformat_minor": 2
}
