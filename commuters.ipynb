{
 "cells": [
  {
   "cell_type": "markdown",
   "metadata": {},
   "source": [
    "## Commuters Data Cleaning"
   ]
  },
  {
   "cell_type": "code",
   "execution_count": 1,
   "metadata": {},
   "outputs": [],
   "source": [
    "import pandas as pd\n",
    "import matplotlib.pyplot as plt \n",
    "import seaborn as sns"
   ]
  },
  {
   "cell_type": "code",
   "execution_count": 35,
   "metadata": {},
   "outputs": [
    {
     "name": "stdout",
     "output_type": "stream",
     "text": [
      "Index(['zielort', 'anzahl', 'anzahl_in_prozent', 'weiblich',\n",
      "       'weiblich_in_prozent', 'maennlich', 'maennlich_in_prozent',\n",
      "       'entfernung_in_km', 'year', 'category'],\n",
      "      dtype='object')\n",
      "Index(['zielort', 'anzahl', 'anzahl_prozent', 'weiblich', 'weiblich_prozent',\n",
      "       'maennlich_', 'maennlich_prozent', 'entfernung_in_km', 'year',\n",
      "       'category'],\n",
      "      dtype='object')\n",
      "Index(['zielort', 'anzahl', 'anzahl_prozent', 'weiblich', 'weiblich_prozent',\n",
      "       'maennlich_', 'maennlich_prozent', 'entfernung_in_km', 'year',\n",
      "       'category'],\n",
      "      dtype='object')\n",
      "Index(['zielort', 'anzahl', 'anzahl_prozent', 'weiblich', 'weiblich_prozent',\n",
      "       'maennlich_', 'maennlich_prozent', 'entfernung_in_km', 'year',\n",
      "       'category'],\n",
      "      dtype='object')\n",
      "Index(['zielort', 'anzahl', 'anzahl_prozent', 'weiblich', 'weiblich_prozent',\n",
      "       'maennlich_', 'maennlich_prozent', 'entfernung_in_km', 'year',\n",
      "       'category'],\n",
      "      dtype='object')\n",
      "Index(['zielort', 'anzahl', 'anzahl_prozent', 'weiblich', 'weiblich_prozent',\n",
      "       'maennlich_', 'maennlich_prozent', 'entfernung_in_km', 'year',\n",
      "       'category'],\n",
      "      dtype='object')\n",
      "Index(['zielort', 'anzahl', 'anzahl_prozent', 'entfernung_in_km', 'year',\n",
      "       'category'],\n",
      "      dtype='object')\n"
     ]
    }
   ],
   "source": [
    "i14 = pd.read_csv(\"Einpendelnde Personen 2014_7.csv\", delimiter=\";\")\n",
    "i15 = pd.read_csv(\"Einpendelnde Personen 2015_1.csv\", delimiter=\";\")\n",
    "i16 = pd.read_csv(\"Einpendelnde Personen 2016_0.csv\", delimiter=\";\")\n",
    "i17 = pd.read_csv(\"Einpendelnde Personen 2017_0.csv\", delimiter=\";\")\n",
    "i18 = pd.read_csv(\"Einpendelnde Personen 2018.csv\", delimiter=\";\")\n",
    "i19 = pd.read_csv(\"Einpendelnde Personen 2019.csv\", delimiter=\";\")\n",
    "i20 = pd.read_csv(\"Einpendelnde Personen 2020.csv\", delimiter=\";\")\n",
    "\n",
    "o14 = pd.read_csv(\"Auspendelnde Personen 2014_1.csv\",delimiter=\";\")\n",
    "o15 = pd.read_csv(\"Auspendelnde Personen 2015_1.csv\",delimiter=\";\")\n",
    "o16 = pd.read_csv(\"Auspendelnde Personen 2016_0.csv\",delimiter=\";\")\n",
    "o17 = pd.read_csv(\"Auspendelnde Personen 2017_1.csv\",delimiter=\";\")\n",
    "o18 = pd.read_csv(\"Auspendelnde Personen 2018.csv\",delimiter=\";\")\n",
    "o19 = pd.read_csv(\"Auspendelnde Personen 2019.csv\",delimiter=\";\")\n",
    "o20 = pd.read_csv(\"Auspendelnde Personen 2020.csv\",delimiter=\";\")\n",
    "\n",
    "incoming_list =[i14,i15,i16,i17,i18,i19,i20]\n",
    "outgoing_list =[o14,o15,o16,o17,o18,o19,o20]\n",
    "all_list =[incoming_list,outgoing_list]\n",
    "\n",
    "year_index=2014\n",
    "for list in incoming_list:\n",
    "    list.columns = list.columns.str.lower()\n",
    "    list.columns = list.columns.str.replace(\" \",\"_\")\n",
    "    list[\"year\"] = year_index\n",
    "    list[\"category\"] = \"incoming commuters\"\n",
    "    year_index += 1\n",
    "\n",
    "year_index=2014\n",
    "for list in outgoing_list:\n",
    "    list.columns = list.columns.str.lower()\n",
    "    list.columns = list.columns.str.replace(\" \",\"_\")\n",
    "    list[\"year\"] = year_index\n",
    "    list[\"category\"] = \"outgoing commuters\"\n",
    "    year_index += 1\n",
    "\n",
    "o14.rename(columns={'herkunftsort': 'zielort'}, inplace=True)\n",
    "\n",
    "\n",
    "\n",
    "\n",
    "#merged_df = pd.merge(o14, o15, on='zielort')\n",
    "print(o14.columns)\n",
    "print(o15.columns)\n",
    "print(o16.columns)\n",
    "print(o17.columns)\n",
    "print(o18.columns)\n",
    "print(o19.columns)\n",
    "print(o20.columns)\n",
    "\n",
    "\n",
    "\n",
    "\n",
    "\n",
    "merge = pd.concat([o14,o15], axis=0)\n",
    "\n",
    "\n",
    "# print(merge.columns)\n"
   ]
  }
 ],
 "metadata": {
  "kernelspec": {
   "display_name": "base",
   "language": "python",
   "name": "python3"
  },
  "language_info": {
   "codemirror_mode": {
    "name": "ipython",
    "version": 3
   },
   "file_extension": ".py",
   "mimetype": "text/x-python",
   "name": "python",
   "nbconvert_exporter": "python",
   "pygments_lexer": "ipython3",
   "version": "3.11.4"
  }
 },
 "nbformat": 4,
 "nbformat_minor": 2
}
